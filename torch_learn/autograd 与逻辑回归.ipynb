{
 "cells": [
  {
   "cell_type": "code",
   "execution_count": null,
   "id": "initial_id",
   "metadata": {
    "collapsed": true
   },
   "outputs": [],
   "source": [
    "import torch\n",
    "import torch.nn as nn\n",
    "import matplotlib.pyplot as plt\n",
    "import numpy as np\n",
    "\n",
    "torch.manual_seed(10)"
   ]
  },
  {
   "cell_type": "code",
   "execution_count": null,
   "outputs": [],
   "source": [
    "device = torch.device('cuda:0' if torch.cuda.is_available() else 'cpu')\n",
    "print(device)"
   ],
   "metadata": {
    "collapsed": false
   },
   "id": "11cad55a4e029e88"
  },
  {
   "cell_type": "code",
   "execution_count": null,
   "outputs": [],
   "source": [
    "# ============================ step 1/5 生成数据 ============================\n",
    "sample_nums = 100\n",
    "mean_value = 1.7\n",
    "bias = 1\n",
    "n_data = torch.ones(size=(sample_nums, 2))\n",
    "x0 = torch.normal(mean=mean_value * n_data, std=1) + bias\n",
    "y0 = torch.zeros(size=(sample_nums,))\n",
    "x1 = torch.normal(mean=-mean_value * n_data, std=1) + bias\n",
    "y1 = torch.ones(size=(sample_nums,))\n",
    "\n",
    "train_x = torch.cat(tensors=[x0, x1], dim=0)\n",
    "train_y = torch.cat(tensors=[y0, y1], dim=0)\n",
    "train_x = train_x.to(device)\n",
    "print(\"train_x:{}\".format(train_x))\n",
    "train_y = train_y.to(device)\n",
    "print(\"train_y:{}\".format(train_y))"
   ],
   "metadata": {
    "collapsed": false
   },
   "id": "ce3554776b2e2729"
  },
  {
   "cell_type": "code",
   "execution_count": null,
   "outputs": [],
   "source": [
    " # ============================ step 2/5 选择模型 ============================\n",
    "class LR(nn.Module):\n",
    "    def __init__(self):\n",
    "        super(LR, self).__init__()\n",
    "        self.features = nn.Linear(2, 1)\n",
    "        self.sigmoid = nn.Sigmoid()\n",
    "\n",
    "    def forward(self, x):\n",
    "        x = self.features(x)\n",
    "        x = self.sigmoid(x)\n",
    "        return x\n",
    "    \n",
    "lr_net = LR()\n",
    "lr_net = lr_net.to(device=device)"
   ],
   "metadata": {
    "collapsed": false
   },
   "id": "abaa8ab0b17edc83"
  },
  {
   "cell_type": "code",
   "execution_count": null,
   "outputs": [],
   "source": [
    "# ============================ step 3/5 选择损失函数 ============================\n",
    "loss_fn = nn.BCELoss()\n",
    "# ============================ step 4/5 选择优化器   ============================\n",
    "lr = 0.01\n",
    "optimizer = torch.optim.SGD(params=lr_net.parameters(), lr=lr, momentum=0.9)"
   ],
   "metadata": {
    "collapsed": false
   },
   "id": "21295a402236aa6e"
  },
  {
   "cell_type": "code",
   "execution_count": null,
   "outputs": [],
   "source": [
    "# ============================ step 5/5 模型训练 ============================\n",
    "# plt.ion()\n",
    "for iteration in range(1000):\n",
    "    # 前向传播\n",
    "    y_pred = lr_net.forward(x=train_x)\n",
    "    # print(\"y_pred:{}\".format(y_pred))\n",
    "    # 计算 loss\n",
    "    # print(\"y_pred.squeeze() shape is:{}\".format(y_pred.squeeze().shape))\n",
    "    # print(\"train_y shape is:{}\".format(train_y.shape))\n",
    "    loss = loss_fn(y_pred.squeeze(), train_y)\n",
    "    # 反向传播\n",
    "    loss.backward()\n",
    "    # 更新参数\n",
    "    optimizer.step()\n",
    "    # 清空梯度\n",
    "    optimizer.zero_grad()\n",
    "    # 绘图\n",
    "    if iteration % 20 == 0:\n",
    "        mask = y_pred.ge(0.5).float().squeeze()  # 以0.5为阈值进行分类\n",
    "        correct = (mask == train_y).sum()  # 计算正确预测的样本个数\n",
    "        acc = correct.item() / train_y.size(0)  # 计算分类准确率\n",
    "\n",
    "        plt.scatter(x0.data.numpy()[:, 0], x0.data.numpy()[:, 1], c='r', label='class 0')\n",
    "        plt.scatter(x1.data.numpy()[:, 0], x1.data.numpy()[:, 1], c='b', label='class 1')\n",
    "\n",
    "        w0, w1 = lr_net.features.weight[0]\n",
    "        w0, w1 = float(w0.item()), float(w1.item())\n",
    "        plot_b = float(lr_net.features.bias[0].item())\n",
    "        plot_x = np.arange(-6, 6, 0.1)\n",
    "        # ?\n",
    "        plot_y = (-w0 * plot_x - plot_b) / w1\n",
    "\n",
    "        plt.xlim(-5, 7)\n",
    "        plt.ylim(-7, 7)\n",
    "        plt.plot(plot_x, plot_y)\n",
    "\n",
    "        plt.text(x=-5, y=5, s='Loss=%.4f' % loss.data.item(), fontdict={'size': 20, 'color': 'red'})\n",
    "        plt.title(\"Iteration: {}\\nw0:{:.2f} w1:{:.2f} b: {:.2f} accuracy:{:.2%}\".format(iteration, w0, w1, plot_b, acc))\n",
    "        plt.legend()\n",
    "        # plt.savefig(str(iteration / 20)+\".png\")\n",
    "        plt.show()\n",
    "        plt.pause(0.5)\n",
    "        # plt.clf()\n",
    "        # 如果准确率大于 99%，则停止训练\n",
    "        if acc > 0.99:\n",
    "            break"
   ],
   "metadata": {
    "collapsed": false
   },
   "id": "860db683f1f50158"
  }
 ],
 "metadata": {
  "kernelspec": {
   "display_name": "Python 3",
   "language": "python",
   "name": "python3"
  },
  "language_info": {
   "codemirror_mode": {
    "name": "ipython",
    "version": 2
   },
   "file_extension": ".py",
   "mimetype": "text/x-python",
   "name": "python",
   "nbconvert_exporter": "python",
   "pygments_lexer": "ipython2",
   "version": "2.7.6"
  }
 },
 "nbformat": 4,
 "nbformat_minor": 5
}
